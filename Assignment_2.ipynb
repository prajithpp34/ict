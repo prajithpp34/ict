{
  "nbformat": 4,
  "nbformat_minor": 0,
  "metadata": {
    "colab": {
      "provenance": [],
      "authorship_tag": "ABX9TyMXOdB8LX2OWLmx2rXvZ6Bf"
    },
    "kernelspec": {
      "name": "python3",
      "display_name": "Python 3"
    },
    "language_info": {
      "name": "python"
    }
  },
  "cells": [
    {
      "cell_type": "code",
      "execution_count": 1,
      "metadata": {
        "colab": {
          "base_uri": "https://localhost:8080/"
        },
        "id": "lAKiSA9Q-zIp",
        "outputId": "69809ab9-d74e-4bf7-a61d-9918b8eea0ca"
      },
      "outputs": [
        {
          "output_type": "stream",
          "name": "stdout",
          "text": [
            "Enter a string value: assembly\n",
            "a=1, s=2, e=1, m=1, b=1, l=1, y=1, \b\b\n"
          ]
        }
      ],
      "source": [
        "#1\n",
        "\n",
        "def count_characters_in_string(input_string):\n",
        "    char_count = {}\n",
        "\n",
        "    for char in input_string:\n",
        "        if char in char_count:\n",
        "            char_count[char] += 1\n",
        "        else:\n",
        "            char_count[char] = 1\n",
        "\n",
        "    for char, count in char_count.items():\n",
        "        print(f\"{char}={count}\", end=\", \")\n",
        "    print(\"\\b\\b\")\n",
        "\n",
        "input_string = input(\"Enter a string value: \")\n",
        "count_characters_in_string(input_string)"
      ]
    },
    {
      "cell_type": "code",
      "source": [
        "#2\n",
        "\n",
        "def maximum(a, b, c):\n",
        "    if (a >= b) and (a >= c):\n",
        "        largest = a\n",
        "\n",
        "    elif (b >= a) and (b >= c):\n",
        "        largest = b\n",
        "\n",
        "    else:\n",
        "        largest = c\n",
        "\n",
        "    return largest\n",
        "a = int(input(\"Enter the first number: \"))\n",
        "b = int(input(\"Enter the second number: \"))\n",
        "c = int(input(\"Enter the third number: \"))\n",
        "\n",
        "print(maximum(a, b, c))"
      ],
      "metadata": {
        "colab": {
          "base_uri": "https://localhost:8080/"
        },
        "id": "778KeLFCBRgY",
        "outputId": "b2403900-5052-4e2a-a772-b23b194008f5"
      },
      "execution_count": 3,
      "outputs": [
        {
          "output_type": "stream",
          "name": "stdout",
          "text": [
            "Enter the first number: 34\n",
            "Enter the second number: 12\n",
            "Enter the third number: 7\n",
            "34\n"
          ]
        }
      ]
    },
    {
      "cell_type": "code",
      "source": [
        "#3\n",
        "\n",
        "def exponent(base,exp):\n",
        "  P=base**exp\n",
        "  return P\n",
        "base = 2\n",
        "exp = 3\n",
        "print(exponent(base,exp))"
      ],
      "metadata": {
        "colab": {
          "base_uri": "https://localhost:8080/"
        },
        "id": "VDesNMhcF-l8",
        "outputId": "7b66dbd0-dec9-4dfe-9ec7-85b3a5291ca8"
      },
      "execution_count": 4,
      "outputs": [
        {
          "output_type": "stream",
          "name": "stdout",
          "text": [
            "8\n"
          ]
        }
      ]
    },
    {
      "cell_type": "code",
      "source": [
        "#4\n",
        "\n",
        "def sum_of_cubes(n):\n",
        "    n -= 1\n",
        "    total = 0\n",
        "    while n > 0:\n",
        "        total += n * n * n\n",
        "        n -= 1\n",
        "    return total\n",
        "\n",
        "print(\"Sum of cubes smaller than the specified number: \", sum_of_cubes(4))"
      ],
      "metadata": {
        "colab": {
          "base_uri": "https://localhost:8080/"
        },
        "id": "fwVR8QvGHvy5",
        "outputId": "bfd12717-675e-4408-8c76-f1a879854caa"
      },
      "execution_count": 5,
      "outputs": [
        {
          "output_type": "stream",
          "name": "stdout",
          "text": [
            "Sum of cubes smaller than the specified number:  36\n"
          ]
        }
      ]
    },
    {
      "cell_type": "code",
      "source": [
        "#5\n",
        "\n",
        "for i in range(1,11):\n",
        "  if i % 2 == 0 and i % 5 == 0:\n",
        "    print(\"FizzBuzz\")\n",
        "    continue\n",
        "  elif i % 2 == 0:\n",
        "    print(\"Fizz\")\n",
        "    continue\n",
        "  elif i % 5 == 0:\n",
        "    print(\"Buzz\")\n",
        "    continue\n",
        "  else:\n",
        "    print(i)"
      ],
      "metadata": {
        "colab": {
          "base_uri": "https://localhost:8080/"
        },
        "id": "65RR_tE-Jmib",
        "outputId": "fe590e2a-bde5-4074-8555-8a1890e18928"
      },
      "execution_count": 6,
      "outputs": [
        {
          "output_type": "stream",
          "name": "stdout",
          "text": [
            "1\n",
            "Fizz\n",
            "3\n",
            "Fizz\n",
            "Buzz\n",
            "Fizz\n",
            "7\n",
            "Fizz\n",
            "9\n",
            "FizzBuzz\n"
          ]
        }
      ]
    },
    {
      "cell_type": "code",
      "source": [
        "#6\n",
        "\n",
        "def most_frequent(List):\n",
        "\n",
        "    counter = 0\n",
        "    num = List[0]\n",
        "\n",
        "    for i in List:\n",
        "\n",
        "        curr_frequency = List.count(i)\n",
        "\n",
        "        if(curr_frequency> counter):\n",
        "\n",
        "            counter = curr_frequency\n",
        "            num = i\n",
        "            return num\n",
        "\n",
        "List = [2, 3, 4, 2, 5, 2]\n",
        "\n",
        "print(most_frequent(List))"
      ],
      "metadata": {
        "colab": {
          "base_uri": "https://localhost:8080/"
        },
        "id": "xfDYn0eBMISb",
        "outputId": "0fc6785d-3fb8-471a-f9a1-ee0ffe51182c"
      },
      "execution_count": 7,
      "outputs": [
        {
          "output_type": "stream",
          "name": "stdout",
          "text": [
            "2\n"
          ]
        }
      ]
    },
    {
      "cell_type": "code",
      "source": [
        "#7\n",
        "\n",
        "def sum_of_squares(numbers):\n",
        "  sum = 0\n",
        "  for x in numbers:\n",
        "    sum += x**2\n",
        "  return sum\n",
        "\n",
        "numbers = [2, 1, 3, 1]\n",
        "print(sum_of_squares(numbers))"
      ],
      "metadata": {
        "colab": {
          "base_uri": "https://localhost:8080/"
        },
        "id": "Wtd7rMfpO_z8",
        "outputId": "d4edc317-1888-4c78-8498-c323de07c2e8"
      },
      "execution_count": 8,
      "outputs": [
        {
          "output_type": "stream",
          "name": "stdout",
          "text": [
            "15\n"
          ]
        }
      ]
    },
    {
      "cell_type": "code",
      "source": [
        "#8\n",
        "\n",
        "def odd_or_even():\n",
        "    for i in range(1, 16):\n",
        "        if i % 2 == 0:\n",
        "            print(f\"{i}-even\")\n",
        "        else:\n",
        "            print(f\"{i}-odd\")\n",
        "\n",
        "odd_or_even()\n"
      ],
      "metadata": {
        "colab": {
          "base_uri": "https://localhost:8080/"
        },
        "id": "15VBCjlYQ1D6",
        "outputId": "ea23a9f4-994b-421b-a93c-aabc2e81bd52"
      },
      "execution_count": 9,
      "outputs": [
        {
          "output_type": "stream",
          "name": "stdout",
          "text": [
            "1-odd\n",
            "2-even\n",
            "3-odd\n",
            "4-even\n",
            "5-odd\n",
            "6-even\n",
            "7-odd\n",
            "8-even\n",
            "9-odd\n",
            "10-even\n",
            "11-odd\n",
            "12-even\n",
            "13-odd\n",
            "14-even\n",
            "15-odd\n"
          ]
        }
      ]
    },
    {
      "cell_type": "code",
      "source": [
        "#9\n",
        "\n",
        "def fahrenheit_to_celsius(f):\n",
        "    c = (f - 32) * 5 / 9\n",
        "    return c\n",
        "f = 41\n",
        "print(f\"Temperature in Celsius = {fahrenheit_to_celsius(f)}\")"
      ],
      "metadata": {
        "colab": {
          "base_uri": "https://localhost:8080/"
        },
        "id": "F9sDqxANRW5T",
        "outputId": "23d1b0a9-9c7d-4e21-9833-53f917e55d3a"
      },
      "execution_count": 10,
      "outputs": [
        {
          "output_type": "stream",
          "name": "stdout",
          "text": [
            "Temperature in Celsius = 5.0\n"
          ]
        }
      ]
    },
    {
      "cell_type": "code",
      "source": [
        "#10\n",
        "\n",
        "def factorial(n):\n",
        "\tfact=1\n",
        "\tfor i in range(1,n+1):\n",
        "\t\tfact=fact*i\n",
        "\treturn fact\n",
        "\n",
        "n=int(input(\"Enter positive number 'N': \"))\n",
        "print(factorial(n))"
      ],
      "metadata": {
        "colab": {
          "base_uri": "https://localhost:8080/"
        },
        "id": "TKw1oyhsR3DV",
        "outputId": "8605c9a1-4861-4d4f-a743-52415ffda6b6"
      },
      "execution_count": 11,
      "outputs": [
        {
          "output_type": "stream",
          "name": "stdout",
          "text": [
            "Enter positive number 'N': 3\n",
            "6\n"
          ]
        }
      ]
    }
  ]
}