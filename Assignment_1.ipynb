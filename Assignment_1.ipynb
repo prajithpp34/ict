{
  "nbformat": 4,
  "nbformat_minor": 0,
  "metadata": {
    "colab": {
      "provenance": []
    },
    "kernelspec": {
      "name": "python3",
      "display_name": "Python 3"
    },
    "language_info": {
      "name": "python"
    }
  },
  "cells": [
    {
      "cell_type": "code",
      "execution_count": null,
      "metadata": {
        "colab": {
          "base_uri": "https://localhost:8080/"
        },
        "id": "ahz_AFqmNSia",
        "outputId": "87e71d21-3864-40a1-91b5-c2901a3d5bc6"
      },
      "outputs": [
        {
          "output_type": "stream",
          "name": "stdout",
          "text": [
            "Please enter the radius of the given circle: 3\n",
            " The area of the given circle is:  28.259999999999998\n"
          ]
        }
      ],
      "source": [
        "# 1\n",
        "Radius = float (input (\"Please enter the radius of the given circle: \"))\n",
        "area = 3.14 * Radius * Radius\n",
        "print (\" The area of the given circle is: \", area)"
      ]
    },
    {
      "cell_type": "code",
      "source": [
        "# 2\n",
        "name = input(\"Enter the name: \")\n",
        "roll_number = input(\"Enter the roll number: \")\n",
        "mark = input(\"Enter the mark: \")\n",
        "\n",
        "print(\"Name:\", name)\n",
        "print(\"Roll No:\", roll_number)\n",
        "print(\"Mark:\", mark)"
      ],
      "metadata": {
        "colab": {
          "base_uri": "https://localhost:8080/"
        },
        "id": "n8tByrRONyJm",
        "outputId": "c627a3b1-e6ac-4b96-9187-61a372dc515e"
      },
      "execution_count": null,
      "outputs": [
        {
          "output_type": "stream",
          "name": "stdout",
          "text": [
            "Enter the name: Anisha\n",
            "Enter the roll number: 21\n",
            "Enter the mark: 78\n",
            "Name: Anisha\n",
            "Roll No: 21\n",
            "Mark: 78\n"
          ]
        }
      ]
    },
    {
      "cell_type": "code",
      "source": [
        "# 3\n",
        "lst = [12, 3, 47, 10]\n",
        "lst.sort()\n",
        "print(lst[-1], \"is the largest number\")"
      ],
      "metadata": {
        "colab": {
          "base_uri": "https://localhost:8080/"
        },
        "id": "lw8_cHsfN8KH",
        "outputId": "882df934-a71e-4d15-86b6-9f3a956eeb1f"
      },
      "execution_count": null,
      "outputs": [
        {
          "output_type": "stream",
          "name": "stdout",
          "text": [
            "47 is the largest number\n"
          ]
        }
      ]
    },
    {
      "cell_type": "code",
      "source": [
        "# 4\n",
        "num = list(range(10))\n",
        "previousNum = 0\n",
        "for i in num:\n",
        "    sum = previousNum + i\n",
        "    print(f'Current Number {i} Previous Number {previousNum} sum {sum}')\n",
        "    previousNum = i"
      ],
      "metadata": {
        "colab": {
          "base_uri": "https://localhost:8080/"
        },
        "id": "AgjY__n3OAhp",
        "outputId": "0c42389f-4c31-40ae-e883-c4b52cea441e"
      },
      "execution_count": null,
      "outputs": [
        {
          "output_type": "stream",
          "name": "stdout",
          "text": [
            "Current Number 0 Previous Number 0 sum 0\n",
            "Current Number 1 Previous Number 0 sum 1\n",
            "Current Number 2 Previous Number 1 sum 3\n",
            "Current Number 3 Previous Number 2 sum 5\n",
            "Current Number 4 Previous Number 3 sum 7\n",
            "Current Number 5 Previous Number 4 sum 9\n",
            "Current Number 6 Previous Number 5 sum 11\n",
            "Current Number 7 Previous Number 6 sum 13\n",
            "Current Number 8 Previous Number 7 sum 15\n",
            "Current Number 9 Previous Number 8 sum 17\n"
          ]
        }
      ]
    },
    {
      "cell_type": "code",
      "source": [
        "# 5\n",
        "f = [10, 20,33,46,55]\n",
        "g = []\n",
        "\n",
        "for i in f:\n",
        "    if i%5 == 0:\n",
        "      g.append(i)\n",
        "print(g)"
      ],
      "metadata": {
        "colab": {
          "base_uri": "https://localhost:8080/"
        },
        "id": "ektu326eOJcZ",
        "outputId": "1d5b7710-73ff-4e68-9ecb-b34933afcbef"
      },
      "execution_count": null,
      "outputs": [
        {
          "output_type": "stream",
          "name": "stdout",
          "text": [
            "[10, 20, 55]\n"
          ]
        }
      ]
    },
    {
      "cell_type": "code",
      "source": [
        "# 6\n",
        "j = int(input('enter number: '))\n",
        "if j>1:\n",
        "  for i in range(2,j):\n",
        "    if j%i==0:\n",
        "     print(j,'is not prime')\n",
        "     break\n",
        "  else:\n",
        "    print(j,'is prime')\n",
        "else:\n",
        "  print(j,'is not prime')"
      ],
      "metadata": {
        "colab": {
          "base_uri": "https://localhost:8080/"
        },
        "id": "7Bg0kvL5OSg7",
        "outputId": "21bd29c4-1fcf-456f-ca8b-3e90c5954a54"
      },
      "execution_count": null,
      "outputs": [
        {
          "output_type": "stream",
          "name": "stdout",
          "text": [
            "enter number: 3\n",
            "3 is prime\n"
          ]
        }
      ]
    },
    {
      "cell_type": "code",
      "source": [
        "# 7\n",
        "lst = [10,40,30,70]\n",
        "rlst = []\n",
        "for i in range(len(lst)-1, -1, -1):\n",
        "  rlst.append(lst[i])\n",
        "\n",
        "print(\"Reverse List \",rlst)"
      ],
      "metadata": {
        "colab": {
          "base_uri": "https://localhost:8080/"
        },
        "id": "DKcyNfGPOU_q",
        "outputId": "3d5edb6f-1992-43a9-aa0c-3f24fb08789e"
      },
      "execution_count": null,
      "outputs": [
        {
          "output_type": "stream",
          "name": "stdout",
          "text": [
            "Reverse List  [70, 30, 40, 10]\n"
          ]
        }
      ]
    },
    {
      "cell_type": "code",
      "source": [
        "# 8\n",
        "for i in range(1, 6):\n",
        "    for j in range(i):\n",
        "        print(\"*\",end=\"\")\n",
        "    print()"
      ],
      "metadata": {
        "colab": {
          "base_uri": "https://localhost:8080/"
        },
        "id": "Omwkl4tAObW_",
        "outputId": "75c52e4c-5724-4480-83be-32f386b5cd03"
      },
      "execution_count": null,
      "outputs": [
        {
          "output_type": "stream",
          "name": "stdout",
          "text": [
            "*\n",
            "**\n",
            "***\n",
            "****\n",
            "*****\n"
          ]
        }
      ]
    },
    {
      "cell_type": "code",
      "source": [
        "# 9\n",
        "a =34\n",
        "b = 12\n",
        "c = 7\n",
        "if a>b and a>c:\n",
        "  print(a, 'is greater')\n",
        "elif b>a and b>c:\n",
        "  print(b, 'is greater')\n",
        "else:\n",
        "  print(c, 'is greater')"
      ],
      "metadata": {
        "colab": {
          "base_uri": "https://localhost:8080/"
        },
        "id": "Wb7VQCvCOg_n",
        "outputId": "4e0cf96f-555a-4ec9-e001-8ed813544cdc"
      },
      "execution_count": null,
      "outputs": [
        {
          "output_type": "stream",
          "name": "stdout",
          "text": [
            "34 is greater\n"
          ]
        }
      ]
    },
    {
      "cell_type": "code",
      "source": [
        "# 10\n",
        "for i in range(1, 6):\n",
        "    for j in range(i):\n",
        "        print(\"*\", end=\"\")\n",
        "    print()\n",
        "\n",
        "for i in range(4, 0, -1):\n",
        "    for j in range(i):\n",
        "        print(\"*\", end=\"\")\n",
        "    print()"
      ],
      "metadata": {
        "colab": {
          "base_uri": "https://localhost:8080/"
        },
        "id": "mk8_BfqHOmRw",
        "outputId": "c188a215-986b-4939-9afd-b704a525ac29"
      },
      "execution_count": null,
      "outputs": [
        {
          "output_type": "stream",
          "name": "stdout",
          "text": [
            "*\n",
            "**\n",
            "***\n",
            "****\n",
            "*****\n",
            "****\n",
            "***\n",
            "**\n",
            "*\n"
          ]
        }
      ]
    }
  ]
}